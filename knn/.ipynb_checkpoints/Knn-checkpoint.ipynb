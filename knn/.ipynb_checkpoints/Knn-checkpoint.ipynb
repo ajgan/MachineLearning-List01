{
 "cells": [
  {
   "cell_type": "code",
   "execution_count": 1,
   "metadata": {
    "collapsed": true
   },
   "outputs": [],
   "source": [
    "def calcDistance(k, instance, weighted):\n",
    "    distance = 0\n",
    "    weight = 1\n",
    "    for i in range(len(instance)-1):\n",
    "        distance = distance + ((k[i] - instance[i]))**2\n",
    "    distance = (distance)**0.5\n",
    "    if (weighted == 1):\n",
    "        weight = 1/(distance**2)\n",
    "    return ((distance, weight))"
   ]
  },
  {
   "cell_type": "code",
   "execution_count": 33,
   "metadata": {},
   "outputs": [],
   "source": [
    "def calcVDM(k, instance, weighted, attributeCount):\n",
    "    disntance = 0\n",
    "    weight = 1\n",
    "    for i in range(10):\n",
    "        print(1)\n",
    "    return distance"
   ]
  },
  {
   "cell_type": "code",
   "execution_count": 36,
   "metadata": {
    "collapsed": true
   },
   "outputs": [],
   "source": [
    "def knn (k, n, data, weighted, dataType):\n",
    "    distances = []\n",
    "    classes = []\n",
    "    classList = []\n",
    "    \n",
    "    attributeCount = []\n",
    "    \n",
    "    for i in range(len(data[0])):\n",
    "        attr = []\n",
    "        for j in range(len(data)):\n",
    "            if (data[j][i] not in attr):\n",
    "                if (len(attr)==0):\n",
    "                    attributeCount.append(1)\n",
    "                else:\n",
    "                    attributeCount[-1] = attributeCount[-1] + 1\n",
    "                attr.append(data[j][i])\n",
    "\n",
    "    \n",
    "    #euclidean\n",
    "    if (dataType == 0):\n",
    "        for i in range(len(data)):\n",
    "            distance = calcDistance(k, data[i], weighted)\n",
    "            distances.append((data[i], distance[0], distance[1]))\n",
    "        distances.sort(key=lambda x: x[1], reverse=False)\n",
    "    \n",
    "    #vdm\n",
    "    elif (dataType == 1):\n",
    "        for i in range(len(data)):\n",
    "            distance = calcVDM(k, data[i], weighted, attributeCount)\n",
    "            distances.append((data[i], distance[0], distance[1]))\n",
    "        distances.sort(key=lambda x: x[1], reverse=False)\n",
    "        \n",
    "    for i in range(n):\n",
    "        myClass = distances[i][0][-1]\n",
    "        myWeight = distances[i][2]\n",
    "        if (myClass not in classList):\n",
    "            classes.append((myClass, myWeight))\n",
    "            classList.append(myClass)\n",
    "        else:\n",
    "            for j in range(len(classes)):\n",
    "                if (myClass == classes[j][0]):\n",
    "                    classes[j] = list(classes[j])\n",
    "                    classes[j][1] = classes[j][1] + myWeight\n",
    "                    break\n",
    "    classes.sort(key=lambda x: x[1], reverse=True)\n",
    "    return classes"
   ]
  },
  {
   "cell_type": "code",
   "execution_count": 37,
   "metadata": {},
   "outputs": [
    {
     "data": {
      "text/plain": [
       "'b'"
      ]
     },
     "execution_count": 37,
     "metadata": {},
     "output_type": "execute_result"
    }
   ],
   "source": [
    "trainset = [[2, 3, 4, 'a'], [4, 4, 4, 'b'], [3,3,3, 'a'],[6,6,6,'b'],[9,9,9,'a']]\n",
    "testInstance = [5, 5, 5]\n",
    "k = 1\n",
    "neighbors = knn(testInstance, 5, trainset, 1, 0)\n",
    "neighbors[0][0]"
   ]
  },
  {
   "cell_type": "code",
   "execution_count": null,
   "metadata": {
    "collapsed": true
   },
   "outputs": [],
   "source": []
  },
  {
   "cell_type": "code",
   "execution_count": null,
   "metadata": {
    "collapsed": true
   },
   "outputs": [],
   "source": []
  }
 ],
 "metadata": {
  "kernelspec": {
   "display_name": "Python 3",
   "language": "python",
   "name": "python3"
  },
  "language_info": {
   "codemirror_mode": {
    "name": "ipython",
    "version": 3
   },
   "file_extension": ".py",
   "mimetype": "text/x-python",
   "name": "python",
   "nbconvert_exporter": "python",
   "pygments_lexer": "ipython3",
   "version": "3.6.1"
  }
 },
 "nbformat": 4,
 "nbformat_minor": 2
}
