{
 "cells": [
  {
   "cell_type": "code",
   "execution_count": 187,
   "metadata": {
    "collapsed": true
   },
   "outputs": [],
   "source": [
    "def euclidean(ai, bi):\n",
    "    return ((ai - bi))**2"
   ]
  },
  {
   "cell_type": "code",
   "execution_count": 188,
   "metadata": {
    "collapsed": true
   },
   "outputs": [],
   "source": [
    "def calcDistance(query, instance, weighted):\n",
    "    distance = 0\n",
    "    weight = 1\n",
    "    for i in range(len(instance)-1):\n",
    "        distance = distance + euclidean(query[i],instance[i])\n",
    "    distance = (distance)**0.5\n",
    "    if (weighted == 1):\n",
    "        weight = 1/(distance**2)\n",
    "    return ((distance, weight))"
   ]
  },
  {
   "cell_type": "code",
   "execution_count": 186,
   "metadata": {},
   "outputs": [],
   "source": [
    "def vdm(ai, bi, attributeCount, pos, classList):\n",
    "    nia = 0\n",
    "    nib = 0\n",
    "    vdmResult = 0\n",
    "    for i in range(len(attributeCount)):\n",
    "        if (attributeCount[i][0] == ai and attributeCount[i][2] == pos):\n",
    "            nia = nia + attributeCount[i][3]\n",
    "        if (attributeCount[i][0] == bi and attributeCount[i][2] == pos):\n",
    "            nib = nib + attributeCount[i][3]\n",
    "                   \n",
    "    for j in range(len(classList)):\n",
    "        niac = 0\n",
    "        nibc = 0\n",
    "        for i in range(len(attributeCount)):\n",
    "            if (attributeCount[i][0] == ai and attributeCount[i][1] == classList[j] and attributeCount[i][2] == pos):\n",
    "                niac = niac + attributeCount[i][3]\n",
    "            if (attributeCount[i][0] == ai and attributeCount[i][1] == classList[j] and attributeCount[i][2] == pos):\n",
    "                nibc = nibc + attributeCount[i][3]\n",
    "        \n",
    "        if (nia == 0):\n",
    "            v1 = 0\n",
    "        else:\n",
    "            v1 = niac/nia\n",
    "        \n",
    "        if (nib == 0):\n",
    "            v2 = 0\n",
    "        else:\n",
    "            v2 = nibc/nib\n",
    "        \n",
    "        calc = abs(v1-v2)\n",
    "        vdmResult = vdmResult + calc\n",
    "        \n",
    "    return vdmResult"
   ]
  },
  {
   "cell_type": "code",
   "execution_count": 185,
   "metadata": {},
   "outputs": [],
   "source": [
    "def calcVDM(query, instance, weighted, attributeCount, classList):\n",
    "    distance = 0\n",
    "    weight = 1\n",
    "    for i in range(len(query)):\n",
    "        distance = distance + vdm(query[i], instance[i], attributeCount, i, classList)\n",
    "    \n",
    "    distance = (distance)**0.5\n",
    "    \n",
    "    if (weighted == 1):\n",
    "        weight = 1/(distance**2)\n",
    "    \n",
    "    return ((distance, weight))"
   ]
  },
  {
   "cell_type": "code",
   "execution_count": 198,
   "metadata": {
    "collapsed": true
   },
   "outputs": [],
   "source": [
    "def calcHVDM(query, instance, weighted, attributeCount, classList, typeList):\n",
    "    distance = 0\n",
    "    weight = 1\n",
    "    for i in range(len(query)):\n",
    "        if (typeList[i] == 'num'):\n",
    "            distance = distance + ((euclidean(query[i], instance[i]))**2)\n",
    "        elif (typeList[i] == 'cat'):\n",
    "            distance = distance + ((vdm(query[i], instance[i], attributeCount, i, classList))**2)\n",
    "    \n",
    "    distance = (distance)**0.5\n",
    "    \n",
    "    if (weighted == 1):\n",
    "        weight = 1/(distance**2)\n",
    "    \n",
    "    return ((distance, weight))"
   ]
  },
  {
   "cell_type": "code",
   "execution_count": 190,
   "metadata": {},
   "outputs": [],
   "source": [
    "def knn (query, n, data, weighted, dataType, typeList):\n",
    "    # k = testInstance\n",
    "    # \n",
    "    #dataType 0 = numérico, 1 = categorico, 2 = heterogeneo\n",
    "    distances = []\n",
    "    classes = []\n",
    "    \n",
    "    attributeCount = []\n",
    "    \n",
    "    classColumn = [row[-1] for row in data]\n",
    "    classList = []\n",
    "    \n",
    "    for i in range(len(classColumn)):\n",
    "        if (classColumn[i] not in classList):\n",
    "            classList.append(classColumn[i])\n",
    "    \n",
    "    for i in range(len(data[0])-1):\n",
    "        for j in range(len(data)):\n",
    "            flag = 0\n",
    "            for k in range(len(attributeCount)):\n",
    "                if (data[j][i]==attributeCount[k][0] and data[j][-1]==attributeCount[k][1] and i == attributeCount[k][2]):\n",
    "                    attributeCount[k][3] = attributeCount[k][3] + 1\n",
    "                    flag = 1\n",
    "                \n",
    "            if(flag == 0):\n",
    "                attributeCount.append([data[j][i], data[j][-1], i, 1])\n",
    "            \n",
    "            #if (data[j][i] not in attr):\n",
    "             #   if (len(attr)==0):\n",
    "              #      attributeCount.append([data[j][i], data[j][-1], 1])\n",
    "               # else:\n",
    "                #    for k in range(len(attributeCount)):\n",
    "                 #       if (data[j][i]==attributeCount[k][0] and data[j][-1]==attributeCount[k][1]):\n",
    "                  #          attributeCount[k][2] = attributeCount[k][2] + 1\n",
    "                #attr.append([data[j][i], data[j][-1]])\n",
    "\n",
    "    #euclidean\n",
    "    if (dataType == 0):\n",
    "        for i in range(len(data)):\n",
    "            distance = calcDistance(query, data[i], weighted)\n",
    "            distances.append((data[i], distance[0], distance[1]))\n",
    "        distances.sort(key=lambda x: x[0], reverse=True)\n",
    "        distances.sort(key=lambda x: x[1], reverse=False)\n",
    "    #vdm\n",
    "    elif (dataType == 1):\n",
    "        for i in range(len(data)):\n",
    "            distance = calcVDM(query, data[i], weighted, attributeCount, classList)\n",
    "            distances.append((data[i], distance[0], distance[1]))\n",
    "        distances.sort(key=lambda x: x[0], reverse=True)\n",
    "        distances.sort(key=lambda x: x[1], reverse=False)\n",
    "    \n",
    "    #hvdm\n",
    "    elif (dataType == 2):\n",
    "        for i in range(len(data)):\n",
    "            distance = calcHVDM(query, data[i], weighted, attributeCount, classList, typeList)\n",
    "            distances.append((data[i], distance[0], distance[1]))\n",
    "        distances.sort(key=lambda x: x[0], reverse=True)\n",
    "        distances.sort(key=lambda x: x[1], reverse=False)\n",
    "    \n",
    "    classList = []\n",
    "    for i in range(n):\n",
    "        myClass = distances[i][0][-1]\n",
    "        myWeight = distances[i][2]\n",
    "        if (myClass not in classList):\n",
    "            classes.append((myClass, myWeight))\n",
    "            classList.append(myClass)\n",
    "        else:\n",
    "            for j in range(len(classes)):\n",
    "                if (myClass == classes[j][0]):\n",
    "                    classes[j] = list(classes[j])\n",
    "                    classes[j][1] = classes[j][1] + myWeight\n",
    "                    break\n",
    "    \n",
    "    classes.sort(key=lambda x: x[1], reverse=True)\n",
    "    for i in range(len(distances)):\n",
    "        print (distances[i])\n",
    "    return classes"
   ]
  },
  {
   "cell_type": "code",
   "execution_count": 191,
   "metadata": {},
   "outputs": [
    {
     "name": "stdout",
     "output_type": "stream",
     "text": [
      "([1, 1, 1, 'b'], 1.0, 1)\n",
      "([0, 0, 1, 'a'], 1.0, 1)\n",
      "([1, 1, 0, 'a'], 1.4142135623730951, 1)\n",
      "([0, 0, 0, 'a'], 1.4142135623730951, 1)\n",
      "([0, 1, 0, 'b'], 1.7320508075688772, 1)\n",
      "[['a', 2], ('b', 1)]\n"
     ]
    },
    {
     "data": {
      "text/plain": [
       "'a'"
      ]
     },
     "execution_count": 191,
     "metadata": {},
     "output_type": "execute_result"
    }
   ],
   "source": [
    "trainset = [[0, 0, 1, 'a'], [0, 1, 0, 'b'], [0,0,0, 'a'],[1,1,1,'b'],[1,1,0,'a']]\n",
    "testInstance = [1, 0, 1]\n",
    "k = 1\n",
    "neighbors = knn(testInstance, 3, trainset, 0, 0, ['num','num','num','num','num'])\n",
    "print(neighbors)\n",
    "neighbors[0][0]"
   ]
  },
  {
   "cell_type": "code",
   "execution_count": 192,
   "metadata": {},
   "outputs": [
    {
     "name": "stdout",
     "output_type": "stream",
     "text": [
      "([1, 1, 1, 'b'], 1.0, 1.0)\n",
      "([0, 0, 1, 'a'], 1.0, 1.0)\n",
      "([1, 1, 0, 'a'], 1.4142135623730951, 0.4999999999999999)\n",
      "([0, 0, 0, 'a'], 1.4142135623730951, 0.4999999999999999)\n",
      "([0, 1, 0, 'b'], 1.7320508075688772, 0.33333333333333337)\n",
      "[['a', 1.5], ('b', 1.0)]\n"
     ]
    },
    {
     "data": {
      "text/plain": [
       "'a'"
      ]
     },
     "execution_count": 192,
     "metadata": {},
     "output_type": "execute_result"
    }
   ],
   "source": [
    "trainset = [[0, 0, 1, 'a'], [0, 1, 0, 'b'], [0,0,0, 'a'],[1,1,1,'b'],[1,1,0,'a']]\n",
    "testInstance = [1, 0, 1]\n",
    "k = 1\n",
    "neighbors = knn(testInstance, 3, trainset, 1, 0, ['num','num','num','num','num'])\n",
    "print(neighbors)\n",
    "neighbors[0][0]"
   ]
  },
  {
   "cell_type": "code",
   "execution_count": 193,
   "metadata": {},
   "outputs": [
    {
     "name": "stdout",
     "output_type": "stream",
     "text": [
      "([1, 1, 1, 'b'], 0.5773502691896258, 1)\n",
      "([0, 0, 1, 'a'], 0.5773502691896258, 1)\n",
      "([1, 1, 0, 'a'], 0.816496580927726, 1)\n",
      "([0, 0, 0, 'a'], 0.816496580927726, 1)\n",
      "([0, 1, 0, 'b'], 1.0, 1)\n",
      "[['a', 2], ('b', 1)]\n"
     ]
    },
    {
     "data": {
      "text/plain": [
       "'a'"
      ]
     },
     "execution_count": 193,
     "metadata": {},
     "output_type": "execute_result"
    }
   ],
   "source": [
    "trainset = [[0, 0, 1, 'a'], [0, 1, 0, 'b'], [0,0,0, 'a'],[1,1,1,'b'],[1,1,0,'a']]\n",
    "testInstance = [1, 0, 1]\n",
    "k = 1\n",
    "neighbors = knn(testInstance, 3, trainset, 0, 1, ['num','num','num','num','num'])\n",
    "print(neighbors)\n",
    "neighbors[0][0]"
   ]
  },
  {
   "cell_type": "code",
   "execution_count": 195,
   "metadata": {},
   "outputs": [
    {
     "name": "stdout",
     "output_type": "stream",
     "text": [
      "([1, 1, 1, 'b'], 1.0, 1)\n",
      "([0, 0, 1, 'a'], 1.0, 1)\n",
      "([1, 1, 0, 'a'], 1.4142135623730951, 1)\n",
      "([0, 0, 0, 'a'], 1.4142135623730951, 1)\n",
      "([0, 1, 0, 'b'], 1.7320508075688772, 1)\n",
      "[['a', 2], ('b', 1)]\n"
     ]
    },
    {
     "data": {
      "text/plain": [
       "'a'"
      ]
     },
     "execution_count": 195,
     "metadata": {},
     "output_type": "execute_result"
    }
   ],
   "source": [
    "trainset = [[0, 0, 1, 'a'], [0, 1, 0, 'b'], [0,0,0, 'a'],[1,1,1,'b'],[1,1,0,'a']]\n",
    "testInstance = [1, 0, 1]\n",
    "k = 1\n",
    "neighbors = knn(testInstance, 3, trainset, 0, 0, ['num','num','num','num','num'])\n",
    "print(neighbors)\n",
    "neighbors[0][0]"
   ]
  },
  {
   "cell_type": "code",
   "execution_count": 201,
   "metadata": {},
   "outputs": [
    {
     "name": "stdout",
     "output_type": "stream",
     "text": [
      "([1, 1, 1, 'b'], 0.33333333333333337, 1)\n",
      "([1, 1, 0, 'a'], 0.47140452079103173, 1)\n",
      "([0, 0, 1, 'a'], 1.0, 1)\n",
      "([0, 0, 0, 'a'], 1.0540925533894598, 1)\n",
      "([0, 1, 0, 'b'], 1.1055415967851334, 1)\n",
      "[['a', 2], ('b', 1)]\n"
     ]
    },
    {
     "data": {
      "text/plain": [
       "'a'"
      ]
     },
     "execution_count": 201,
     "metadata": {},
     "output_type": "execute_result"
    }
   ],
   "source": [
    "trainset = [[0, 0, 1, 'a'], [0, 1, 0, 'b'], [0,0,0, 'a'],[1,1,1,'b'],[1,1,0,'a']]\n",
    "testInstance = [1, 0, 1]\n",
    "k = 1\n",
    "neighbors = knn(testInstance, 3, trainset, 0, 2, ['num','cat','cat','cat','num'])\n",
    "print(neighbors)\n",
    "neighbors[0][0]"
   ]
  },
  {
   "cell_type": "code",
   "execution_count": 202,
   "metadata": {},
   "outputs": [
    {
     "name": "stdout",
     "output_type": "stream",
     "text": [
      "([1, 1, 1, 'b'], 0.33333333333333337, 8.999999999999998)\n",
      "([1, 1, 0, 'a'], 0.47140452079103173, 4.499999999999999)\n",
      "([0, 0, 1, 'a'], 1.0, 1.0)\n",
      "([0, 0, 0, 'a'], 1.0540925533894598, 0.8999999999999999)\n",
      "([0, 1, 0, 'b'], 1.1055415967851334, 0.818181818181818)\n",
      "[('b', 8.999999999999998), ['a', 5.499999999999999]]\n"
     ]
    },
    {
     "data": {
      "text/plain": [
       "'b'"
      ]
     },
     "execution_count": 202,
     "metadata": {},
     "output_type": "execute_result"
    }
   ],
   "source": [
    "trainset = [[0, 0, 1, 'a'], [0, 1, 0, 'b'], [0,0,0, 'a'],[1,1,1,'b'],[1,1,0,'a']]\n",
    "testInstance = [1, 0, 1]\n",
    "k = 1\n",
    "neighbors = knn(testInstance, 3, trainset, 1, 2, ['num','cat','cat','cat','num'])\n",
    "print(neighbors)\n",
    "neighbors[0][0]"
   ]
  },
  {
   "cell_type": "code",
   "execution_count": null,
   "metadata": {
    "collapsed": true
   },
   "outputs": [],
   "source": []
  }
 ],
 "metadata": {
  "kernelspec": {
   "display_name": "Python 3",
   "language": "python",
   "name": "python3"
  },
  "language_info": {
   "codemirror_mode": {
    "name": "ipython",
    "version": 3
   },
   "file_extension": ".py",
   "mimetype": "text/x-python",
   "name": "python",
   "nbconvert_exporter": "python",
   "pygments_lexer": "ipython3",
   "version": "3.6.1"
  }
 },
 "nbformat": 4,
 "nbformat_minor": 2
}
