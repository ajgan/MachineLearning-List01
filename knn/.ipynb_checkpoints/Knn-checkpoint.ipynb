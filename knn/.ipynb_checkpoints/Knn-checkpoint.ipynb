{
 "cells": [
  {
   "cell_type": "code",
   "execution_count": 69,
   "metadata": {
    "collapsed": true
   },
   "outputs": [],
   "source": [
    "def calcDistance(k, instance, weighted):\n",
    "    distance = 0\n",
    "    weight = 1\n",
    "    for i in range(len(instance)-1):\n",
    "        distance = distance + ((k[i] - instance[i]))**2\n",
    "    distance = (distance)**0.5\n",
    "    if (weighted == 1):\n",
    "        weight = 1/(distance**2)\n",
    "    return ((distance, weight))"
   ]
  },
  {
   "cell_type": "code",
   "execution_count": 72,
   "metadata": {},
   "outputs": [],
   "source": [
    "def knn (k, n, data, weighted):\n",
    "    distances = []\n",
    "    classes = []\n",
    "    classList = []\n",
    "    for i in range(len(data)):\n",
    "        distance = calcDistance(k, data[i], weighted)\n",
    "        distances.append((data[i], distance[0], distance[1]))\n",
    "    distances.sort(key=lambda x: x[1], reverse=False)\n",
    "    for i in range(n):\n",
    "        myClass = distances[i][0][-1]\n",
    "        myWeight = distances[i][2]\n",
    "        if (myClass not in classList):\n",
    "            classes.append((myClass, myWeight))\n",
    "            classList.append(myClass)\n",
    "        else:\n",
    "            for j in range(len(classes)):\n",
    "                if (myClass == classes[j][0]):\n",
    "                    classes[j] = list(classes[j])\n",
    "                    classes[j][1] = classes[j][1] + myWeight\n",
    "                    break\n",
    "    classes.sort(key=lambda x: x[1], reverse=True)\n",
    "    return classes"
   ]
  },
  {
   "cell_type": "code",
   "execution_count": 79,
   "metadata": {},
   "outputs": [
    {
     "data": {
      "text/plain": [
       "'b'"
      ]
     },
     "execution_count": 79,
     "metadata": {},
     "output_type": "execute_result"
    }
   ],
   "source": [
    "trainset = [[2, 2, 2, 'a'], [4, 4, 4, 'b'], [3,3,3, 'a'],[6,6,6,'b'],[9,9,9,'a']]\n",
    "testInstance = [5, 5, 5]\n",
    "k = 1\n",
    "neighbors = knn(testInstance, 5, trainset, 1)\n",
    "neighbors[0][0]"
   ]
  },
  {
   "cell_type": "code",
   "execution_count": null,
   "metadata": {
    "collapsed": true
   },
   "outputs": [],
   "source": [
    "5.196152422706632\n",
    "1.7320508075688772\n",
    "3.4641016151377544\n",
    "8.660254037844387\n",
    "1.7320508075688772"
   ]
  },
  {
   "cell_type": "code",
   "execution_count": 65,
   "metadata": {},
   "outputs": [
    {
     "data": {
      "text/plain": [
       "int"
      ]
     },
     "execution_count": 65,
     "metadata": {},
     "output_type": "execute_result"
    }
   ],
   "source": [
    "type(1)"
   ]
  },
  {
   "cell_type": "code",
   "execution_count": null,
   "metadata": {
    "collapsed": true
   },
   "outputs": [],
   "source": []
  }
 ],
 "metadata": {
  "kernelspec": {
   "display_name": "Python 3",
   "language": "python",
   "name": "python3"
  },
  "language_info": {
   "codemirror_mode": {
    "name": "ipython",
    "version": 3
   },
   "file_extension": ".py",
   "mimetype": "text/x-python",
   "name": "python",
   "nbconvert_exporter": "python",
   "pygments_lexer": "ipython3",
   "version": "3.6.1"
  }
 },
 "nbformat": 4,
 "nbformat_minor": 2
}
