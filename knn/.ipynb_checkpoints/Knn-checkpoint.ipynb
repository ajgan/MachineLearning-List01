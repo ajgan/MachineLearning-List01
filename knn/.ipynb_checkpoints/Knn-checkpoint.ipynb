{
 "cells": [
  {
   "cell_type": "code",
   "execution_count": 1,
   "metadata": {
    "collapsed": true
   },
   "outputs": [],
   "source": [
    "import pandas as pd\n",
    "import numpy as np"
   ]
  },
  {
   "cell_type": "code",
   "execution_count": 104,
   "metadata": {},
   "outputs": [],
   "source": [
    "def euclidean(ai, bi):\n",
    "    return ((float(ai) - float(bi)))**2"
   ]
  },
  {
   "cell_type": "code",
   "execution_count": 96,
   "metadata": {
    "collapsed": true
   },
   "outputs": [],
   "source": [
    "def calcDistance(query, instance, weighted):\n",
    "    distance = 0\n",
    "    weight = 1\n",
    "    for i in range(len(instance)-1):\n",
    "        distance = distance + euclidean(query[i],instance[i])\n",
    "    distance = (distance)**0.5\n",
    "    if (weighted == 1):\n",
    "        if (distance==0):\n",
    "            distance = 0.01\n",
    "        weight = 1/(distance**2)\n",
    "    return ((distance, weight))"
   ]
  },
  {
   "cell_type": "code",
   "execution_count": 4,
   "metadata": {
    "collapsed": true
   },
   "outputs": [],
   "source": [
    "def vdm(ai, bi, attributeCount, pos, classList):\n",
    "    nia = 0\n",
    "    nib = 0\n",
    "    vdmResult = 0\n",
    "    for i in range(len(attributeCount)):\n",
    "        if (attributeCount[i][0] == ai and attributeCount[i][2] == pos):\n",
    "            nia = nia + attributeCount[i][3]\n",
    "        if (attributeCount[i][0] == bi and attributeCount[i][2] == pos):\n",
    "            nib = nib + attributeCount[i][3]\n",
    "                   \n",
    "    for j in range(len(classList)):\n",
    "        niac = 0\n",
    "        nibc = 0\n",
    "        for i in range(len(attributeCount)):\n",
    "            if (attributeCount[i][0] == ai and attributeCount[i][1] == classList[j] and attributeCount[i][2] == pos):\n",
    "                niac = niac + attributeCount[i][3]\n",
    "            if (attributeCount[i][0] == ai and attributeCount[i][1] == classList[j] and attributeCount[i][2] == pos):\n",
    "                nibc = nibc + attributeCount[i][3]\n",
    "        \n",
    "        if (nia == 0):\n",
    "            v1 = 0\n",
    "        else:\n",
    "            v1 = niac/nia\n",
    "        \n",
    "        if (nib == 0):\n",
    "            v2 = 0\n",
    "        else:\n",
    "            v2 = nibc/nib\n",
    "        \n",
    "        calc = abs(v1-v2)\n",
    "        vdmResult = vdmResult + calc\n",
    "        \n",
    "    return vdmResult"
   ]
  },
  {
   "cell_type": "code",
   "execution_count": 97,
   "metadata": {
    "collapsed": true
   },
   "outputs": [],
   "source": [
    "def calcVDM(query, instance, weighted, attributeCount, classList):\n",
    "    distance = 0\n",
    "    weight = 1\n",
    "    for i in range(len(query)):\n",
    "        distance = distance + vdm(query[i], instance[i], attributeCount, i, classList)\n",
    "    \n",
    "    distance = (distance)**0.5\n",
    "    \n",
    "    if (weighted == 1):\n",
    "        if (distance==0):\n",
    "            distance = 0.01\n",
    "        weight = 1/(distance**2)\n",
    "    \n",
    "    return ((distance, weight))"
   ]
  },
  {
   "cell_type": "code",
   "execution_count": 114,
   "metadata": {
    "collapsed": true
   },
   "outputs": [],
   "source": [
    "def calcHVDM(query, instance, weighted, attributeCount, classList, typeList):\n",
    "    distance = 0\n",
    "    weight = 1\n",
    "    for i in range(len(query)):\n",
    "        if (typeList[i] == 'num'):\n",
    "            distance = distance + ((euclidean(query[i], instance[i]))**2)\n",
    "        elif (typeList[i] == 'cat'):\n",
    "            distance = distance + ((vdm(query[i], instance[i], attributeCount, i, classList))**2)\n",
    "    \n",
    "    distance = (distance)**0.5\n",
    "    \n",
    "    if (weighted == 1):\n",
    "        if(distance==0):\n",
    "            distance = 0.01\n",
    "        weight = 1/(distance**2)\n",
    "    \n",
    "    return ((distance, weight))"
   ]
  },
  {
   "cell_type": "code",
   "execution_count": 85,
   "metadata": {
    "collapsed": true
   },
   "outputs": [],
   "source": [
    "def getNeighbors(distances, n):\n",
    "    classes = []\n",
    "    classList = []\n",
    "    for i in range(n):\n",
    "        myClass = distances[i][0][-1]\n",
    "        myWeight = distances[i][2]\n",
    "        if (myClass not in classList):\n",
    "            classes.append((myClass, myWeight))\n",
    "            classList.append(myClass)\n",
    "        else:\n",
    "            for j in range(len(classes)):\n",
    "                if (myClass == classes[j][0]):\n",
    "                    classes[j] = list(classes[j])\n",
    "                    classes[j][1] = classes[j][1] + myWeight\n",
    "                    break\n",
    "    \n",
    "    classes.sort(key=lambda x: x[1], reverse=True)\n",
    "    return classes[0][0]"
   ]
  },
  {
   "cell_type": "code",
   "execution_count": 81,
   "metadata": {
    "collapsed": true
   },
   "outputs": [],
   "source": [
    "def knn (query, data, weighted, dataType, typeList):\n",
    "    # k = testInstance\n",
    "    # \n",
    "    #dataType 0 = numérico, 1 = categorico, 2 = heterogeneo\n",
    "    distances = []\n",
    "    classes = []\n",
    "    \n",
    "    attributeCount = []\n",
    "    \n",
    "    classColumn = [row[-1] for row in data]\n",
    "    classList = []\n",
    "    \n",
    "    for i in range(len(classColumn)):\n",
    "        if (classColumn[i] not in classList):\n",
    "            classList.append(classColumn[i])\n",
    "    \n",
    "    for i in range(len(data[0])-1):\n",
    "        for j in range(len(data)):\n",
    "            flag = 0\n",
    "            for k in range(len(attributeCount)):\n",
    "                if (data[j][i]==attributeCount[k][0] and data[j][-1]==attributeCount[k][1] and i == attributeCount[k][2]):\n",
    "                    attributeCount[k][3] = attributeCount[k][3] + 1\n",
    "                    flag = 1\n",
    "                \n",
    "            if(flag == 0):\n",
    "                attributeCount.append([data[j][i], data[j][-1], i, 1])\n",
    "            \n",
    "            #if (data[j][i] not in attr):\n",
    "             #   if (len(attr)==0):\n",
    "              #      attributeCount.append([data[j][i], data[j][-1], 1])\n",
    "               # else:\n",
    "                #    for k in range(len(attributeCount)):\n",
    "                 #       if (data[j][i]==attributeCount[k][0] and data[j][-1]==attributeCount[k][1]):\n",
    "                  #          attributeCount[k][2] = attributeCount[k][2] + 1\n",
    "                #attr.append([data[j][i], data[j][-1]])\n",
    "\n",
    "    #euclidean\n",
    "    if (dataType == 0):\n",
    "        for i in range(len(data)):\n",
    "            distance = calcDistance(query, data[i], weighted)\n",
    "            distances.append((data[i], distance[0], distance[1]))\n",
    "        distances.sort(key=lambda x: x[0], reverse=True)\n",
    "        distances.sort(key=lambda x: x[1], reverse=False)\n",
    "    #vdm\n",
    "    elif (dataType == 1):\n",
    "        for i in range(len(data)):\n",
    "            distance = calcVDM(query, data[i], weighted, attributeCount, classList)\n",
    "            distances.append((data[i], distance[0], distance[1]))\n",
    "        distances.sort(key=lambda x: x[0], reverse=True)\n",
    "        distances.sort(key=lambda x: x[1], reverse=False)\n",
    "    \n",
    "    #hvdm\n",
    "    elif (dataType == 2):\n",
    "        for i in range(len(data)):\n",
    "            distance = calcHVDM(query, data[i], weighted, attributeCount, classList, typeList)\n",
    "            distances.append((data[i], distance[0], distance[1]))\n",
    "        distances.sort(key=lambda x: x[0], reverse=True)\n",
    "        distances.sort(key=lambda x: x[1], reverse=False)\n",
    "    \n",
    "    return distances"
   ]
  },
  {
   "cell_type": "code",
   "execution_count": 8,
   "metadata": {
    "collapsed": true
   },
   "outputs": [],
   "source": [
    "import random"
   ]
  },
  {
   "cell_type": "code",
   "execution_count": 9,
   "metadata": {
    "collapsed": true
   },
   "outputs": [],
   "source": [
    "def kFolds (dataset, k, shuffle, mySeed):\n",
    "    \n",
    "    if (shuffle==1):\n",
    "        random.seed(mySeed)\n",
    "        finalDataset = dataset.sample(frac=1, random_state=mySeed)\n",
    "    else:\n",
    "        finalDataset = dataset.copy()\n",
    "        \n",
    "    splittedDataset = np.array_split(finalDataset, k)\n",
    "    \n",
    "    return splittedDataset"
   ]
  },
  {
   "cell_type": "code",
   "execution_count": 91,
   "metadata": {},
   "outputs": [],
   "source": [
    "def crossValidation(dataset, kFold, shuffle, mySeed, kVariation, weighted, dataType, typeList):\n",
    "    \n",
    "    foldHits = []\n",
    "    for i in range(len(kVariation)):\n",
    "        foldHits.append(0)\n",
    "        \n",
    "    datasetFolds = kFolds(dataset, kFold, shuffle, mySeed)\n",
    "    for i in range(kFold):\n",
    "        testset = datasetFolds[i].reset_index(drop=True)\n",
    "        frames = []\n",
    "        for j in range(kFold):\n",
    "            if (not j==i):\n",
    "                frames.append(datasetFolds[j])\n",
    "        trainset = pd.concat(frames).reset_index(drop=True)\n",
    "        hits = 0\n",
    "        trainsetList = trainset.values.tolist()\n",
    "        for m in range(len(testset)):\n",
    "            neighbors = knn(testset.iloc[m], trainsetList, weighted, dataType, typeList)\n",
    "            for z in range(len(kVariation)):\n",
    "                prediction = getNeighbors(neighbors, kVariation[z])    \n",
    "                if (prediction == testset.iloc[m][-1]):\n",
    "                    foldHits[z] = foldHits[z] + 1\n",
    "                \n",
    "    \n",
    "    for n in range(len(foldHits)):\n",
    "        foldHits[n] = foldHits[n]/len(dataset)    \n",
    "    return foldHits"
   ]
  },
  {
   "cell_type": "code",
   "execution_count": 143,
   "metadata": {},
   "outputs": [],
   "source": [
    "dataretrieve = pd.read_csv(\"..//datasets/q1/dataretrieve.csv\", na_values='?')\n",
    "desharnais = pd.read_csv(\"..//datasets/q1/desharnais.csv\", na_values='?')\n",
    "lenses = pd.read_csv(\"..//datasets/q2/lenses.csv\", na_values='?')\n",
    "hayesRoth = pd.read_csv(\"..//datasets/q2/hayes-roth.csv\", na_values='?')\n",
    "tae = pd.read_csv(\"..//datasets/q3/tae.csv\", na_values='?')\n",
    "postOpperative = pd.read_csv(\"..//datasets/q3/postOpperative.csv\", na_values='?')"
   ]
  },
  {
   "cell_type": "code",
   "execution_count": 144,
   "metadata": {},
   "outputs": [],
   "source": [
    "dataretrieve = dataretrieve.fillna(0)\n",
    "desharnais = desharnais.fillna(0)\n",
    "lenses = lenses.fillna(0)\n",
    "hayesRoth = hayesRoth.fillna(0)\n",
    "tae = tae.fillna(0)\n",
    "postOpperative = postOpperative.fillna(0)"
   ]
  },
  {
   "cell_type": "code",
   "execution_count": 145,
   "metadata": {},
   "outputs": [],
   "source": [
    "with open(\"..//datasets/q1/dataretrieve.txt\") as infile:\n",
    "    dataretrievelist = infile.read()\n",
    "    dataretrievelist = dataretrievelist.split(',')\n",
    "with open(\"..//datasets/q1/desharnais.txt\") as infile:\n",
    "    desharnaislist = infile.read()\n",
    "    desharnaislist = desharnaislist.split(',')\n",
    "with open(\"..//datasets/q2/lenses.txt\") as infile:\n",
    "    lenseslist = infile.read()\n",
    "    lenseslist = lenseslist.split(',')\n",
    "with open(\"..//datasets/q2/hayes-roth.txt\") as infile:\n",
    "    hayesRothlist = infile.read()\n",
    "    hayesRothlist = hayesRothlist.split(',')\n",
    "with open(\"..//datasets/q3/tae.txt\") as infile:\n",
    "    taelist = infile.read()\n",
    "    taelist = taelist.split(',')\n",
    "with open(\"..//datasets/q3/postOpperative.txt\") as infile:\n",
    "    postOpperativelist = infile.read()\n",
    "    postOpperativelist = postOpperativelist.split(',')"
   ]
  },
  {
   "cell_type": "code",
   "execution_count": 63,
   "metadata": {
    "collapsed": true
   },
   "outputs": [],
   "source": [
    "import time"
   ]
  },
  {
   "cell_type": "code",
   "execution_count": 64,
   "metadata": {
    "collapsed": true
   },
   "outputs": [],
   "source": [
    "kVariation = [1,2,3,5,7,9,11,13,15]"
   ]
  },
  {
   "cell_type": "code",
   "execution_count": 83,
   "metadata": {},
   "outputs": [],
   "source": [
    "def calculateScores(dataset, weighted, dataType, typeList):\n",
    "    scores = []\n",
    "    startTime = time.time()\n",
    "    scores = crossValidation(dataset, 5, 1, 1000, kVariation, weighted, dataType, typeList)\n",
    "    finishTime = time.time()\n",
    "    totalTime = finishTime - startTime\n",
    "    return [scores,totalTime]"
   ]
  },
  {
   "cell_type": "markdown",
   "metadata": {},
   "source": [
    "# Questão 1"
   ]
  },
  {
   "cell_type": "code",
   "execution_count": 137,
   "metadata": {},
   "outputs": [
    {
     "name": "stdout",
     "output_type": "stream",
     "text": [
      "7.5837860107421875\n"
     ]
    }
   ],
   "source": [
    "dataretrieveNoWeight = calculateScores(dataretrieve, 0, 0, dataretrievelist)\n",
    "dataretrieveNoWeightDF = pd.DataFrame([dataretrieveNoWeight[0]], columns = ([\"k1\", \"k2\", \"k3\", \"k5\", \"k7\", \"k9\", \"k11\", \"k13\", \"k15\"]))\n",
    "dataretrieveNoWeightDF.to_csv(\"..//results/q1/dataretrieveNoWeight.csv\", index=False)\n",
    "print(dataretrieveNoWeight[1])"
   ]
  },
  {
   "cell_type": "code",
   "execution_count": 138,
   "metadata": {},
   "outputs": [
    {
     "name": "stdout",
     "output_type": "stream",
     "text": [
      "7.3306989669799805\n"
     ]
    }
   ],
   "source": [
    "dataretrieveWeight = calculateScores(dataretrieve, 1, 0, dataretrievelist)\n",
    "dataretrieveWeightDF = pd.DataFrame([dataretrieveWeight[0]], columns = ([\"k1\", \"k2\", \"k3\", \"k5\", \"k7\", \"k9\", \"k11\", \"k13\", \"k15\"]))\n",
    "dataretrieveWeightDF.to_csv(\"..//results/q1/dataretrieveWeight.csv\", index=False)\n",
    "print(dataretrieveWeight[1])"
   ]
  },
  {
   "cell_type": "code",
   "execution_count": 146,
   "metadata": {},
   "outputs": [
    {
     "name": "stdout",
     "output_type": "stream",
     "text": [
      "2.981898069381714\n"
     ]
    }
   ],
   "source": [
    "desharnaisNoWeight = calculateScores(desharnais, 0, 0, desharnaislist)\n",
    "desharnaisNoWeightDF = pd.DataFrame([desharnaisNoWeight[0]], columns = ([\"k1\", \"k2\", \"k3\", \"k5\", \"k7\", \"k9\", \"k11\", \"k13\", \"k15\"]))\n",
    "desharnaisNoWeightDF.to_csv(\"..//results/q1/desharnaisNoWeight.csv\", index=False)\n",
    "print(desharnaisNoWeight[1])"
   ]
  },
  {
   "cell_type": "code",
   "execution_count": 147,
   "metadata": {},
   "outputs": [
    {
     "name": "stdout",
     "output_type": "stream",
     "text": [
      "3.3412389755249023\n"
     ]
    }
   ],
   "source": [
    "desharnaisWeight = calculateScores(desharnais, 1, 0, desharnaislist)\n",
    "desharnaisWeightDF = pd.DataFrame([desharnaisWeight[0]], columns = ([\"k1\", \"k2\", \"k3\", \"k5\", \"k7\", \"k9\", \"k11\", \"k13\", \"k15\"]))\n",
    "desharnaisWeightDF.to_csv(\"..//results/q1/desharnaisWeight.csv\", index=False)\n",
    "print(desharnaisWeight[1])"
   ]
  },
  {
   "cell_type": "markdown",
   "metadata": {},
   "source": [
    "# Questão 2"
   ]
  },
  {
   "cell_type": "code",
   "execution_count": 129,
   "metadata": {},
   "outputs": [
    {
     "name": "stdout",
     "output_type": "stream",
     "text": [
      "0.3346114158630371\n"
     ]
    }
   ],
   "source": [
    "lensesNoWeight = calculateScores(lenses, 0, 1, lenseslist)\n",
    "lensesNoWeightDF = pd.DataFrame([lensesNoWeight[0]], columns = ([\"k1\", \"k2\", \"k3\", \"k5\", \"k7\", \"k9\", \"k11\", \"k13\", \"k15\"]))\n",
    "lensesNoWeightDF.to_csv(\"..//results/q2/lensesNoWeight.csv\", index=False)\n",
    "print(lensesNoWeight[1])"
   ]
  },
  {
   "cell_type": "code",
   "execution_count": 131,
   "metadata": {},
   "outputs": [
    {
     "name": "stdout",
     "output_type": "stream",
     "text": [
      "0.3404512405395508\n"
     ]
    }
   ],
   "source": [
    "lensesWeight = calculateScores(lenses, 1, 1, carlist)\n",
    "lensesWeightDF = pd.DataFrame([lensesWeight[0]], columns = ([\"k1\", \"k2\", \"k3\", \"k5\", \"k7\", \"k9\", \"k11\", \"k13\", \"k15\"]))\n",
    "lensesWeightDF.to_csv(\"..//results/q2/lensesWeight.csv\", index=False)\n",
    "print(lensesWeight[1])"
   ]
  },
  {
   "cell_type": "code",
   "execution_count": 93,
   "metadata": {},
   "outputs": [
    {
     "name": "stdout",
     "output_type": "stream",
     "text": [
      "23.500524044036865\n"
     ]
    }
   ],
   "source": [
    "hayesRothNoWeight = calculateScores(hayesRoth, 0, 1, hayesRothlist)\n",
    "hayesRothNoWeightDF = pd.DataFrame([hayesRothNoWeight[0]], columns = ([\"k1\", \"k2\", \"k3\", \"k5\", \"k7\", \"k9\", \"k11\", \"k13\", \"k15\"]))\n",
    "hayesRothNoWeightDF.to_csv(\"..//results/q2/hayesRothNoWeight.csv\", index=False)\n",
    "print(hayesRothNoWeight[1])"
   ]
  },
  {
   "cell_type": "code",
   "execution_count": 98,
   "metadata": {},
   "outputs": [
    {
     "name": "stdout",
     "output_type": "stream",
     "text": [
      "23.88520383834839\n"
     ]
    }
   ],
   "source": [
    "hayesRothWeight = calculateScores(hayesRoth, 1, 1, hayesRothlist)\n",
    "hayesRothWeightDF = pd.DataFrame([hayesRothWeight[0]], columns = ([\"k1\", \"k2\", \"k3\", \"k5\", \"k7\", \"k9\", \"k11\", \"k13\", \"k15\"]))\n",
    "hayesRothWeightDF.to_csv(\"..//results/q2/hayesRothWeight.csv\", index=False)\n",
    "print(hayesRothWeight[1])"
   ]
  },
  {
   "cell_type": "markdown",
   "metadata": {},
   "source": [
    "# Questão 3"
   ]
  },
  {
   "cell_type": "code",
   "execution_count": 112,
   "metadata": {},
   "outputs": [
    {
     "name": "stdout",
     "output_type": "stream",
     "text": [
      "31.177202939987183\n"
     ]
    }
   ],
   "source": [
    "taeNoWeight = calculateScores(tae, 0, 2, taelist)\n",
    "taeNoWeightDF = pd.DataFrame([taeNoWeight[0]], columns = ([\"k1\", \"k2\", \"k3\", \"k5\", \"k7\", \"k9\", \"k11\", \"k13\", \"k15\"]))\n",
    "taeNoWeightDF.to_csv(\"..//results/q3/taeNoWeight.csv\", index=False)\n",
    "print(taeNoWeight[1])"
   ]
  },
  {
   "cell_type": "code",
   "execution_count": 115,
   "metadata": {},
   "outputs": [
    {
     "name": "stdout",
     "output_type": "stream",
     "text": [
      "31.5972101688385\n"
     ]
    }
   ],
   "source": [
    "taeWeight = calculateScores(tae, 1, 2, taelist)\n",
    "taeWeightDF = pd.DataFrame([taeWeight[0]], columns = ([\"k1\", \"k2\", \"k3\", \"k5\", \"k7\", \"k9\", \"k11\", \"k13\", \"k15\"]))\n",
    "taeWeightDF.to_csv(\"..//results/q3/taeWeight.csv\", index=False)\n",
    "print(taeWeight[1])"
   ]
  },
  {
   "cell_type": "code",
   "execution_count": 122,
   "metadata": {},
   "outputs": [
    {
     "name": "stdout",
     "output_type": "stream",
     "text": [
      "5.135257959365845\n"
     ]
    }
   ],
   "source": [
    "postOpperativeNoWeight = calculateScores(postOpperative, 0, 2, postOpperativelist)\n",
    "postOpperativeNoWeightDF = pd.DataFrame([postOpperativeNoWeight[0]], columns = ([\"k1\", \"k2\", \"k3\", \"k5\", \"k7\", \"k9\", \"k11\", \"k13\", \"k15\"]))\n",
    "postOpperativeNoWeightDF.to_csv(\"..//results/q3/postOpperativeNoWeight.csv\", index=False)\n",
    "print(postOpperativeNoWeight[1])"
   ]
  },
  {
   "cell_type": "code",
   "execution_count": 123,
   "metadata": {},
   "outputs": [
    {
     "name": "stdout",
     "output_type": "stream",
     "text": [
      "5.1549670696258545\n"
     ]
    }
   ],
   "source": [
    "postOpperativeWeight = calculateScores(postOpperative, 1, 2, postOpperativelist)\n",
    "postOpperativeWeightDF = pd.DataFrame([postOpperativeWeight[0]], columns = ([\"k1\", \"k2\", \"k3\", \"k5\", \"k7\", \"k9\", \"k11\", \"k13\", \"k15\"]))\n",
    "postOpperativeWeightDF.to_csv(\"..//results/q3/postOpperativeWeight.csv\", index=False)\n",
    "print(postOpperativeWeight[1])"
   ]
  },
  {
   "cell_type": "code",
   "execution_count": 33,
   "metadata": {
    "collapsed": true
   },
   "outputs": [],
   "source": [
    "import matplotlib\n",
    "import matplotlib.pyplot as plt\n",
    "import matplotlib.ticker as mticker\n",
    "from matplotlib.ticker import FormatStrFormatter\n",
    "import seaborn as sns"
   ]
  },
  {
   "cell_type": "code",
   "execution_count": 89,
   "metadata": {},
   "outputs": [
    {
     "data": {
      "text/html": [
       "<div>\n",
       "<style>\n",
       "    .dataframe thead tr:only-child th {\n",
       "        text-align: right;\n",
       "    }\n",
       "\n",
       "    .dataframe thead th {\n",
       "        text-align: left;\n",
       "    }\n",
       "\n",
       "    .dataframe tbody tr th {\n",
       "        vertical-align: top;\n",
       "    }\n",
       "</style>\n",
       "<table border=\"1\" class=\"dataframe\">\n",
       "  <thead>\n",
       "    <tr style=\"text-align: right;\">\n",
       "      <th></th>\n",
       "      <th>k1</th>\n",
       "      <th>k2</th>\n",
       "      <th>k3</th>\n",
       "      <th>k5</th>\n",
       "      <th>k7</th>\n",
       "      <th>k9</th>\n",
       "      <th>k11</th>\n",
       "      <th>k13</th>\n",
       "      <th>k15</th>\n",
       "    </tr>\n",
       "  </thead>\n",
       "  <tbody>\n",
       "    <tr>\n",
       "      <th>0</th>\n",
       "      <td>0.621212</td>\n",
       "      <td>0.621212</td>\n",
       "      <td>0.590909</td>\n",
       "      <td>0.575758</td>\n",
       "      <td>0.522727</td>\n",
       "      <td>0.439394</td>\n",
       "      <td>0.462121</td>\n",
       "      <td>0.469697</td>\n",
       "      <td>0.492424</td>\n",
       "    </tr>\n",
       "  </tbody>\n",
       "</table>\n",
       "</div>"
      ],
      "text/plain": [
       "         k1        k2        k3        k5        k7        k9       k11  \\\n",
       "0  0.621212  0.621212  0.590909  0.575758  0.522727  0.439394  0.462121   \n",
       "\n",
       "        k13       k15  \n",
       "0  0.469697  0.492424  "
      ]
     },
     "execution_count": 89,
     "metadata": {},
     "output_type": "execute_result"
    }
   ],
   "source": [
    "hayesRothNoWeightDF"
   ]
  },
  {
   "cell_type": "code",
   "execution_count": null,
   "metadata": {
    "collapsed": true
   },
   "outputs": [],
   "source": []
  }
 ],
 "metadata": {
  "kernelspec": {
   "display_name": "Python 3",
   "language": "python",
   "name": "python3"
  },
  "language_info": {
   "codemirror_mode": {
    "name": "ipython",
    "version": 3
   },
   "file_extension": ".py",
   "mimetype": "text/x-python",
   "name": "python",
   "nbconvert_exporter": "python",
   "pygments_lexer": "ipython3",
   "version": "3.6.1"
  }
 },
 "nbformat": 4,
 "nbformat_minor": 2
}
