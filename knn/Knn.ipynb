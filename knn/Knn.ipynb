{
 "cells": [
  {
   "cell_type": "code",
   "execution_count": null,
   "metadata": {
    "collapsed": true
   },
   "outputs": [],
   "source": [
    "point k\n",
    "\n",
    "knn (k, n, data):\n",
    "    distances = []\n",
    "    classes = []\n",
    "    for i in range(len(data)):\n",
    "        distance = calcDistance(k, data[i])\n",
    "        distances.append(data[i], distance)\n",
    "    sort(distances) ascending by distances[1]\n",
    "    for i in range(n):\n",
    "        myClass = getClass(distances[i][0])\n",
    "        if (myClass not in classes):\n",
    "            classes.append((myClass, 1))\n",
    "        else:\n",
    "            for j in range(len(classes)):\n",
    "                if (myClass == classes[j][0]):\n",
    "                    classes[j][1] = classes[j][1] + 1\n",
    "                    break\n",
    "    sort(classes) descending by classes[1]\n",
    "    return classes[0][0]\n",
    "        "
   ]
  }
 ],
 "metadata": {
  "kernelspec": {
   "display_name": "Python 3",
   "language": "python",
   "name": "python3"
  },
  "language_info": {
   "codemirror_mode": {
    "name": "ipython",
    "version": 3
   },
   "file_extension": ".py",
   "mimetype": "text/x-python",
   "name": "python",
   "nbconvert_exporter": "python",
   "pygments_lexer": "ipython3",
   "version": "3.6.1"
  }
 },
 "nbformat": 4,
 "nbformat_minor": 2
}
